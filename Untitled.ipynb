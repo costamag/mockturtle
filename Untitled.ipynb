{
 "cells": [
  {
   "cell_type": "code",
   "execution_count": 5,
   "id": "083a0866",
   "metadata": {},
   "outputs": [],
   "source": [
    "import numpy as np\n",
    "\n",
    "I = np.matrix([[1,0],[1,0]]) \n",
    "X = np.matrix([[0,1],[1,0]])\n",
    "Y = np.matrix([[0,-1j],[1j,0]])\n",
    "Z = np.matrix([[1,0],[0,-1]])"
   ]
  },
  {
   "cell_type": "code",
   "execution_count": 6,
   "id": "54c6c6dc",
   "metadata": {},
   "outputs": [],
   "source": [
    "H=np.kron(np.kron(Z,Z),I)-np.kron(np.kron(I,Y),Y)-np.kron(np.kron(X,I),X)"
   ]
  },
  {
   "cell_type": "code",
   "execution_count": 7,
   "id": "c7bd9554",
   "metadata": {},
   "outputs": [
    {
     "data": {
      "text/plain": [
       "matrix([[ 1.+0.j,  0.+0.j,  0.+0.j,  1.+0.j,  0.+0.j, -1.+0.j,  0.+0.j,\n",
       "          0.+0.j],\n",
       "        [ 1.+0.j,  0.+0.j, -1.+0.j,  0.+0.j, -1.+0.j,  0.+0.j,  0.+0.j,\n",
       "          0.+0.j],\n",
       "        [ 0.+0.j, -1.+0.j, -1.+0.j,  0.+0.j,  0.+0.j, -1.+0.j,  0.+0.j,\n",
       "          0.+0.j],\n",
       "        [ 1.+0.j,  0.+0.j, -1.+0.j,  0.+0.j, -1.+0.j,  0.+0.j,  0.+0.j,\n",
       "          0.+0.j],\n",
       "        [ 0.+0.j, -1.+0.j,  0.+0.j,  1.+0.j, -1.+0.j,  0.+0.j,  0.+0.j,\n",
       "          0.+0.j],\n",
       "        [-1.+0.j,  0.+0.j, -1.+0.j,  0.+0.j, -1.+0.j,  0.+0.j,  0.+0.j,\n",
       "          0.+0.j],\n",
       "        [ 0.+0.j, -2.+0.j,  0.+0.j,  0.+0.j,  0.+0.j,  0.+0.j,  1.+0.j,\n",
       "          0.+0.j],\n",
       "        [ 0.+0.j,  0.+0.j,  0.+0.j,  0.+0.j,  0.+0.j,  0.+0.j,  1.+0.j,\n",
       "          0.+0.j]])"
      ]
     },
     "execution_count": 7,
     "metadata": {},
     "output_type": "execute_result"
    }
   ],
   "source": [
    "H"
   ]
  },
  {
   "cell_type": "code",
   "execution_count": 9,
   "id": "4e8fa7a3",
   "metadata": {},
   "outputs": [],
   "source": [
    "[v,w]=np.linalg.eig(H)"
   ]
  },
  {
   "cell_type": "code",
   "execution_count": 11,
   "id": "2de07e08",
   "metadata": {},
   "outputs": [
    {
     "data": {
      "text/plain": [
       "array([ 0.00000000e+00+0.j,  1.00000000e+00+0.j, -2.00000000e+00+0.j,\n",
       "        1.00000000e+00+0.j, -1.00000000e+00+0.j,  2.00000000e+00+0.j,\n",
       "        2.84138209e-17+0.j, -1.00000000e+00+0.j])"
      ]
     },
     "execution_count": 11,
     "metadata": {},
     "output_type": "execute_result"
    }
   ],
   "source": [
    "v"
   ]
  },
  {
   "cell_type": "code",
   "execution_count": null,
   "id": "8e032f19",
   "metadata": {},
   "outputs": [],
   "source": []
  }
 ],
 "metadata": {
  "kernelspec": {
   "display_name": "Python 3 (ipykernel)",
   "language": "python",
   "name": "python3"
  },
  "language_info": {
   "codemirror_mode": {
    "name": "ipython",
    "version": 3
   },
   "file_extension": ".py",
   "mimetype": "text/x-python",
   "name": "python",
   "nbconvert_exporter": "python",
   "pygments_lexer": "ipython3",
   "version": "3.9.13"
  }
 },
 "nbformat": 4,
 "nbformat_minor": 5
}
